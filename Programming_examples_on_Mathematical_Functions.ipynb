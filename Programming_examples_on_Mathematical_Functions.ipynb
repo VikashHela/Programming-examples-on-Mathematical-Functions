{
  "nbformat": 4,
  "nbformat_minor": 0,
  "metadata": {
    "colab": {
      "name": "Programming examples on Mathematical Functions",
      "provenance": [],
      "authorship_tag": "ABX9TyODl8aDuTHj8pfZiH66PXh9",
      "include_colab_link": true
    },
    "kernelspec": {
      "name": "python3",
      "display_name": "Python 3"
    }
  },
  "cells": [
    {
      "cell_type": "markdown",
      "metadata": {
        "id": "view-in-github",
        "colab_type": "text"
      },
      "source": [
        "<a href=\"https://colab.research.google.com/github/VikashHela/Programming-examples-on-Mathematical-Functions/blob/master/Programming_examples_on_Mathematical_Functions.ipynb\" target=\"_parent\"><img src=\"https://colab.research.google.com/assets/colab-badge.svg\" alt=\"Open In Colab\"/></a>"
      ]
    },
    {
      "cell_type": "code",
      "metadata": {
        "id": "rWm4ZRM2quTw",
        "colab_type": "code",
        "outputId": "b01a582d-8204-4e8c-f201-bd8daec37fc3",
        "colab": {
          "base_uri": "https://localhost:8080/",
          "height": 51
        }
      },
      "source": [
        "# Program to Check if a Date is Valid and Print the Incremented Date if it is\n",
        "date = input(\"enter the date: \")\n",
        "dd,mm,yyyy= date.split('/')\n",
        "dd = int(dd)\n",
        "mm = int(mm)\n",
        "yyyy = int(yyyy)\n",
        "if mm ==1 or mm == 3 or mm == 5 or mm == 7 or mm == 8 or mm == 10 or mm == 12:\n",
        "  max1 = 31\n",
        "elif mm == 4 or mm == 6 or mm == 9 or mm == 11:\n",
        "  max1 = 30\n",
        "elif yyyy%4 == 0 and yyyy %100!=0 or yyyy%400 == 0:\n",
        "  max1=29\n",
        "else:\n",
        "  max1 =28\n",
        "if mm<1 or mm>12:\n",
        "  print(\"Date is invalid\")\n",
        "elif dd<1 or dd>max1:\n",
        "  print(\"Date  is invalid\")\n",
        "elif dd==max1 and mm!=12:\n",
        "  dd =1\n",
        "  mm = mm+1\n",
        "  print(\"The incremented date is: \",dd,mm,yyyy)\n",
        "elif dd==31 and mm == 12:\n",
        "  dd =  1 \n",
        "  mm = 1\n",
        "  yyyy = yyyy+1\n",
        "  print(\"the incremented date is :\",dd,mm,yyyy)\n",
        "else:\n",
        "  dd = dd+1\n",
        "  print(\"The incremented date is :\",dd,mm,yyyy)"
      ],
      "execution_count": 0,
      "outputs": [
        {
          "output_type": "stream",
          "text": [
            "enter the date: 7/08/2012\n",
            "The incremented date is : 8 8 2012\n"
          ],
          "name": "stdout"
        }
      ]
    },
    {
      "cell_type": "code",
      "metadata": {
        "id": "mkH7fkZ07bFN",
        "colab_type": "code",
        "outputId": "93d50cb1-ef3a-412e-9774-d047ea8aab29",
        "colab": {
          "base_uri": "https://localhost:8080/",
          "height": 51
        }
      },
      "source": [
        "# Program to Compute Simple Interest Given all the Required Values\n",
        "p, r, t = map(int,input(\"Enter the principal, rate of interest, time\").split())\n",
        "simple_interest = (p*r*t)/100\n",
        "print(f\"the simple interest is {simple_interest}\")"
      ],
      "execution_count": 0,
      "outputs": [
        {
          "output_type": "stream",
          "text": [
            "Enter the principal, rate of interest, time1000 5 10\n",
            "the simple interest is 500.0\n"
          ],
          "name": "stdout"
        }
      ]
    },
    {
      "cell_type": "code",
      "metadata": {
        "id": "EP_c2AAvNpLN",
        "colab_type": "code",
        "outputId": "bf31d780-b40d-4d39-d914-c2fd7c40b756",
        "colab": {
          "base_uri": "https://localhost:8080/",
          "height": 51
        }
      },
      "source": [
        "# Program to Check Whether a Given Year is a Leap Year\n",
        "n = int(input(\"Enter a valid year: \"))\n",
        "if n %4==0 and n%100 !=0 or n%400 ==0:\n",
        "  print(f\"The year {n} is leap year\")\n",
        "else:\n",
        "  print(f\"the year {n} is not a leap year\")"
      ],
      "execution_count": 0,
      "outputs": [
        {
          "output_type": "stream",
          "text": [
            "Enter a valid year: 2014\n",
            "the year 2014 is not a leap year\n"
          ],
          "name": "stdout"
        }
      ]
    },
    {
      "cell_type": "code",
      "metadata": {
        "id": "4BP3d6dlaf1q",
        "colab_type": "code",
        "outputId": "60096877-c5c6-4ded-aca1-01dd970e9846",
        "colab": {
          "base_uri": "https://localhost:8080/",
          "height": 68
        }
      },
      "source": [
        "# Program to Read Height in Centimeters and then Convert the Height to Feet and Inches\n",
        "height = int(input(\"enter the height in cm: \"))\n",
        "inches = 0.394*height\n",
        "feet = 0.0328*height\n",
        "print(\"The length in inches\", round(inches,2))\n",
        "print(\"The length in feet\", round(feet,2))"
      ],
      "execution_count": 0,
      "outputs": [
        {
          "output_type": "stream",
          "text": [
            "enter the height in cm: 175\n",
            "The length in inches 68.95\n",
            "The length in feet 5.74\n"
          ],
          "name": "stdout"
        }
      ]
    },
    {
      "cell_type": "code",
      "metadata": {
        "id": "NoRmjtieb-nu",
        "colab_type": "code",
        "outputId": "14b30afd-03ed-464f-d730-5978d7042d84",
        "colab": {
          "base_uri": "https://localhost:8080/",
          "height": 51
        }
      },
      "source": [
        "# Program to take the temperature in Celsius and convert it to Fahrenheit.\n",
        "celsius=int(input(\"Enter the temperature in celcius:\"))\n",
        "f=(celsius*1.8)+32\n",
        "print(\"Temperature in farenheit is:\",f)"
      ],
      "execution_count": 0,
      "outputs": [
        {
          "output_type": "stream",
          "text": [
            "Enter the temperature in celcius:37\n",
            "Temperature in farenheit is: 98.60000000000001\n"
          ],
          "name": "stdout"
        }
      ]
    },
    {
      "cell_type": "code",
      "metadata": {
        "id": "youDRYIwg6km",
        "colab_type": "code",
        "outputId": "5ebdcc7b-6284-48ac-cbc6-1d85e8cd99d9",
        "colab": {
          "base_uri": "https://localhost:8080/",
          "height": 85
        }
      },
      "source": [
        "# Program to Compute Prime Factors of an Integer\n",
        "n=int(input(\"Enter an integer:\"))\n",
        "print(\"Factors are:\")\n",
        "i=1\n",
        "while(i<=n):\n",
        "    k=0\n",
        "    if(n%i==0):\n",
        "        j=1\n",
        "        while(j<=i):\n",
        "            if(i%j==0):\n",
        "                k=k+1\n",
        "            j=j+1\n",
        "        if(k==2):\n",
        "            print(i)\n",
        "    i=i+1"
      ],
      "execution_count": 0,
      "outputs": [
        {
          "output_type": "stream",
          "text": [
            "Enter an integer:20\n",
            "Factors are:\n",
            "2\n",
            "5\n"
          ],
          "name": "stdout"
        }
      ]
    },
    {
      "cell_type": "code",
      "metadata": {
        "id": "5CbcrIxNk1pi",
        "colab_type": "code",
        "outputId": "2137bda4-e2ae-4c39-a407-920dbcc02ce1",
        "colab": {
          "base_uri": "https://localhost:8080/",
          "height": 68
        }
      },
      "source": [
        "# Program to Generate all the Divisors of an Integer\n",
        "n = int(input(\"Enter the integer: \"))\n",
        "for i in range(1,n+1):\n",
        "  if n%i == 0:\n",
        "    print(i)"
      ],
      "execution_count": 0,
      "outputs": [
        {
          "output_type": "stream",
          "text": [
            "Enter the integer: 5\n",
            "1\n",
            "5\n"
          ],
          "name": "stdout"
        }
      ]
    },
    {
      "cell_type": "code",
      "metadata": {
        "id": "D9d1tSxG044Y",
        "colab_type": "code",
        "outputId": "d00eb011-a7f5-4cae-9e39-5ac067dfdf8a",
        "colab": {
          "base_uri": "https://localhost:8080/",
          "height": 204
        }
      },
      "source": [
        "# Program to Print Table of a Given Number\n",
        "n = int(input(\"Enter the number to print the tables for: \"))\n",
        "for i in range(1,11):\n",
        "  print(f\"{n} x {i} = {n*i}\")"
      ],
      "execution_count": 0,
      "outputs": [
        {
          "output_type": "stream",
          "text": [
            "Enter the number to print the tables for: 5\n",
            "5 x 1 = 5\n",
            "5 x 2 = 10\n",
            "5 x 3 = 15\n",
            "5 x 4 = 20\n",
            "5 x 5 = 25\n",
            "5 x 6 = 30\n",
            "5 x 7 = 35\n",
            "5 x 8 = 40\n",
            "5 x 9 = 45\n",
            "5 x 10 = 50\n"
          ],
          "name": "stdout"
        }
      ]
    },
    {
      "cell_type": "code",
      "metadata": {
        "id": "h_GSkC2h1uzd",
        "colab_type": "code",
        "outputId": "c0ba7743-a465-4f8f-a102-bf02b4e989c5",
        "colab": {
          "base_uri": "https://localhost:8080/",
          "height": 170
        }
      },
      "source": [
        "# Program to Print Sum of Negative Numbers, Positive Even Numbers and Positive Odd numbers in a List\n",
        "n = int(input(\"Enter the number of elements to be in the list: \"))\n",
        "b=[]\n",
        "for i in range(n):\n",
        "  a=int(input(f\"element[{i}]: \"))\n",
        "  b.append(a)\n",
        "sum1=0\n",
        "sum2=0\n",
        "sum3=0\n",
        "for j in b:\n",
        "    if(j>0):\n",
        "        if(j%2==0):\n",
        "            sum1=sum1+j\n",
        "        else:\n",
        "            sum2=sum2+j\n",
        "    else:\n",
        "        sum3=sum3+j\n",
        "print(\"Sum of all positive even numbers:\",sum1)\n",
        "print(\"Sum of all positive odd numbers:\",sum2)\n",
        "print(\"Sum of all negative numbers:\",sum3)"
      ],
      "execution_count": 0,
      "outputs": [
        {
          "output_type": "stream",
          "text": [
            "Enter the number of elements to be in the list: 5\n",
            "element[0]: 13\n",
            "element[1]: 12\n",
            "element[2]: 14\n",
            "element[3]: 15\n",
            "element[4]: 16\n",
            "Sum of all positive even numbers: 42\n",
            "Sum of all positive odd numbers: 28\n",
            "Sum of all negative numbers: 0\n"
          ],
          "name": "stdout"
        }
      ]
    },
    {
      "cell_type": "code",
      "metadata": {
        "id": "VPAOarUm2kzS",
        "colab_type": "code",
        "colab": {
          "base_uri": "https://localhost:8080/",
          "height": 119
        },
        "outputId": "5038a30c-4fd6-4e78-a5bd-aab14b354ef7"
      },
      "source": [
        "# Program to Print Largest Even and Largest Odd Number in a List\n",
        "n = int(input(\"enter the number of elemnents to be in the list: \"))\n",
        "b =  []\n",
        "for i in range(0,n):\n",
        "  a = int(input(\"element: \"))\n",
        "  b.append(a)\n",
        "\n",
        "c = []\n",
        "d = []\n",
        "for i in b:\n",
        "  if i%2 == 0:\n",
        "    c.append(i)\n",
        "  else:\n",
        "    d.append(i)\n",
        "c.sort()\n",
        "d.sort()\n",
        "if len(c) !=0:\n",
        "  print(\"largest even number: \",c[-1])\n",
        "else:\n",
        "  print(\"no even element found\")\n",
        "if len(d) !=0:\n",
        "  print(\"largest odd number: \",d[-1])\n",
        "else:\n",
        "  print(\"no odd element found\")"
      ],
      "execution_count": 5,
      "outputs": [
        {
          "output_type": "stream",
          "text": [
            "enter the number of elemnents to be in the list: 3\n",
            "element: 3\n",
            "element: 16\n",
            "element: 17\n",
            "largest even number:  16\n",
            "largest odd number:  17\n"
          ],
          "name": "stdout"
        }
      ]
    },
    {
      "cell_type": "code",
      "metadata": {
        "id": "5qZlx1_c4R2o",
        "colab_type": "code",
        "colab": {
          "base_uri": "https://localhost:8080/",
          "height": 51
        },
        "outputId": "b3ca7e1a-e831-4548-f0d4-a8f7973f63ff"
      },
      "source": [
        "# Program to Form an Integer that has the Number of Digits at Ten’s Place and the Least Significant Digit of the Entered Integer at One’s Place\n",
        "n = int(input(\"enter the number: \"))\n",
        "c = len(str(n))\n",
        "r = n%10\n",
        "print(\"the new formed number is \" +str(c)+str(r))"
      ],
      "execution_count": 8,
      "outputs": [
        {
          "output_type": "stream",
          "text": [
            "enter the number: 120\n",
            "the new formed number is 30\n"
          ],
          "name": "stdout"
        }
      ]
    },
    {
      "cell_type": "code",
      "metadata": {
        "id": "c2PZebc-6pMP",
        "colab_type": "code",
        "colab": {
          "base_uri": "https://localhost:8080/",
          "height": 340
        },
        "outputId": "1a104342-e8a4-4a52-f4df-959d64be0b62"
      },
      "source": [
        "# Program to Find Those Numbers which are Divisible by 7 or Multiple of 5 in a Given Range of Numbers\n",
        "n = int(input(\"enter the lower range: \"))\n",
        "m = int(input(\"enter the upper range: \"))\n",
        "\n",
        "seven = []\n",
        "five = []\n",
        "for i in range(n,m):\n",
        "  if i%7==0:\n",
        "    seven.append(i)\n",
        "  elif i%5==0:\n",
        "    five.append(i)\n",
        "print(\"the numbers divisible by 7 are: \")\n",
        "for i in seven:\n",
        "  print(i)\n",
        "print(\"the numbers multiple by 5 are: \")\n",
        "for i in five:\n",
        "  print(i)\n",
        "\n"
      ],
      "execution_count": 17,
      "outputs": [
        {
          "output_type": "stream",
          "text": [
            "enter the lower range: 5\n",
            "enter the upper range: 50\n",
            "the numbers divisible by 7 are: \n",
            "7\n",
            "14\n",
            "21\n",
            "28\n",
            "35\n",
            "42\n",
            "49\n",
            "the numbers multiple by 5 are: \n",
            "5\n",
            "10\n",
            "15\n",
            "20\n",
            "25\n",
            "30\n",
            "40\n",
            "45\n"
          ],
          "name": "stdout"
        }
      ]
    },
    {
      "cell_type": "code",
      "metadata": {
        "id": "JPRu4t9B8M2I",
        "colab_type": "code",
        "colab": {
          "base_uri": "https://localhost:8080/",
          "height": 51
        },
        "outputId": "457a082c-3025-4ee7-9f50-b7056e76202b"
      },
      "source": [
        "# Program to Check if a Number is an Armstrong Number\n",
        "n = int(input(\"enter any number: \"))\n",
        "a = list(map(int,str(n)))\n",
        "b = list(map(lambda x:x**3,a))\n",
        "if  sum(b)==n:\n",
        "  print(\"the number is an armstrong number \")\n",
        "else:\n",
        "  print(\"the number is not an armstrong number\")\n",
        "\n"
      ],
      "execution_count": 23,
      "outputs": [
        {
          "output_type": "stream",
          "text": [
            "enter any number: 149\n",
            "the number is not an armstrong number\n"
          ],
          "name": "stdout"
        }
      ]
    },
    {
      "cell_type": "code",
      "metadata": {
        "id": "h5ksVuoL_ptg",
        "colab_type": "code",
        "colab": {
          "base_uri": "https://localhost:8080/",
          "height": 119
        },
        "outputId": "314e302c-ba8f-45a7-8ce3-508f28113465"
      },
      "source": [
        "# Program to Print the Pascal’s triangle for n number of rows given by the user\n",
        "n=int(input(\"Enter number of rows: \"))\n",
        "a=[]\n",
        "for i in range(n):\n",
        "    a.append([])\n",
        "    a[i].append(1)\n",
        "    for j in range(1,i):\n",
        "        a[i].append(a[i-1][j-1]+a[i-1][j])\n",
        "    if(n!=0):\n",
        "        a[i].append(1)\n",
        "for i in range(n):\n",
        "    print(\"   \"*(n-i),end=\" \",sep=\" \")\n",
        "    for j in range(0,i+1):\n",
        "        print('{0:6}'.format(a[i][j]),end=\" \",sep=\" \")\n",
        "    print()"
      ],
      "execution_count": 25,
      "outputs": [
        {
          "output_type": "stream",
          "text": [
            "Enter number of rows: 5\n",
            "                     1 \n",
            "                  1      1 \n",
            "               1      2      1 \n",
            "            1      3      3      1 \n",
            "         1      4      6      4      1 \n"
          ],
          "name": "stdout"
        }
      ]
    },
    {
      "cell_type": "code",
      "metadata": {
        "id": "aVDnXnQ9AtnL",
        "colab_type": "code",
        "colab": {
          "base_uri": "https://localhost:8080/",
          "height": 51
        },
        "outputId": "e07bb93b-ab92-4316-8c13-20a540a127cf"
      },
      "source": [
        "# Program to Check if a Number is a Perfect Number\n",
        "n = int(input(\"Enter any number: \"))\n",
        "sum1 = 0\n",
        "for i in range(1, n):\n",
        "    if(n % i == 0):\n",
        "        sum1 = sum1 + i\n",
        "if (sum1 == n):\n",
        "    print(\"The number is a Perfect number!\")\n",
        "else:\n",
        "    print(\"The number is not a Perfect number!\")"
      ],
      "execution_count": 27,
      "outputs": [
        {
          "output_type": "stream",
          "text": [
            "Enter any number: 6\n",
            "The number is a Perfect number!\n"
          ],
          "name": "stdout"
        }
      ]
    },
    {
      "cell_type": "code",
      "metadata": {
        "id": "5u63C_qhEsJ0",
        "colab_type": "code",
        "colab": {
          "base_uri": "https://localhost:8080/",
          "height": 51
        },
        "outputId": "0d51d56e-89d3-4b92-8384-d5a97ada1742"
      },
      "source": [
        "# Program to check if a number is a strong number\n",
        "def fact(num):\n",
        "  i = 1\n",
        "  while num:\n",
        "    i = num * i\n",
        "    num = num-1\n",
        "  return i\n",
        "\n",
        "sum1 = 0\n",
        "num = int(input(\"enter a number: \"))\n",
        "temp = num\n",
        "b = list(map(int, str(num)))\n",
        "for i in b:\n",
        "  sum1 = sum1 + fact(i)\n",
        "\n",
        "if sum1 == temp:\n",
        "  print(\"the number is a strong number\")\n",
        "else:\n",
        "  print(\"the number is not a strong number\")"
      ],
      "execution_count": 34,
      "outputs": [
        {
          "output_type": "stream",
          "text": [
            "enter a number: 145\n",
            "the number is a strong number\n"
          ],
          "name": "stdout"
        }
      ]
    },
    {
      "cell_type": "code",
      "metadata": {
        "id": "gV9YALqPGW5O",
        "colab_type": "code",
        "colab": {
          "base_uri": "https://localhost:8080/",
          "height": 68
        },
        "outputId": "f0ed4d98-1204-4e5b-b938-6f72a3bfc8f5"
      },
      "source": [
        "# Program to Find the LCM of Two Numbers\n",
        "a = int(input(\"enter te first number: \"))\n",
        "b = int(input(\"enter the second number: \"))\n",
        "if a>b:\n",
        "  min1 = a\n",
        "else:\n",
        "  min1 = b\n",
        "while (1):\n",
        "  if min1%a==0 and min1%b==0:\n",
        "    print(\"LCM is \",min1)\n",
        "    break\n",
        "  min1 = min1+1"
      ],
      "execution_count": 38,
      "outputs": [
        {
          "output_type": "stream",
          "text": [
            "enter te first number: 9\n",
            "enter the second number: 27\n",
            "LCM is  27\n"
          ],
          "name": "stdout"
        }
      ]
    },
    {
      "cell_type": "code",
      "metadata": {
        "id": "dhTIionkGyJ1",
        "colab_type": "code",
        "colab": {
          "base_uri": "https://localhost:8080/",
          "height": 68
        },
        "outputId": "65ee0079-a076-4147-af11-9cc0f5839ae5"
      },
      "source": [
        "# Program to find the GCD of two numbers.\n",
        "import math\n",
        "a=int(input(\"Enter the first number:\"))\n",
        "b=int(input(\"Enter the second number:\"))\n",
        "print(\"The GCD of the two numbers is\",math.gcd(a,b))"
      ],
      "execution_count": 43,
      "outputs": [
        {
          "output_type": "stream",
          "text": [
            "Enter the first number:9\n",
            "Enter the second number:6\n",
            "The GCD of the two numbers is 3\n"
          ],
          "name": "stdout"
        }
      ]
    },
    {
      "cell_type": "code",
      "metadata": {
        "id": "bRkUkljhcTPK",
        "colab_type": "code",
        "colab": {
          "base_uri": "https://localhost:8080/",
          "height": 136
        },
        "outputId": "8ef4b1ce-dc9d-4b56-db92-0a91078707a8"
      },
      "source": [
        "# Program to Compute a Polynomial Equation given that the Coefficients of the Polynomial are stored in a List\n",
        "import math\n",
        "print(\"Enter the coefficients of the form ax^3 + bx^2 + cx + d\")\n",
        "lst=[]\n",
        "for i in range(0,4):\n",
        "    a=int(input(\"Enter coefficient:\"))\n",
        "    lst.append(a)\n",
        "x=int(input(\"Enter the value of x:\"))\n",
        "sum1=0\n",
        "j=3\n",
        "for i in range(0,3):\n",
        "    while(j>0):\n",
        "        sum1=sum1+(lst[i]*math.pow(x,j))\n",
        "        break\n",
        "    j=j-1\n",
        "sum1=sum1+lst[3]\n",
        "print(\"The value of the polynomial is:\",sum1)"
      ],
      "execution_count": 44,
      "outputs": [
        {
          "output_type": "stream",
          "text": [
            "Enter the coefficients of the form ax^3 + bx^2 + cx + d\n",
            "Enter coefficient:3\n",
            "Enter coefficient:4\n",
            "Enter coefficient:5\n",
            "Enter coefficient:6\n",
            "Enter the value of x:2\n",
            "The value of the polynomial is: 56.0\n"
          ],
          "name": "stdout"
        }
      ]
    },
    {
      "cell_type": "code",
      "metadata": {
        "id": "d0vZLtAAgz3c",
        "colab_type": "code",
        "colab": {
          "base_uri": "https://localhost:8080/",
          "height": 68
        },
        "outputId": "c29a6cf3-6dcb-43fb-9760-4538ca204b5d"
      },
      "source": [
        "# Program to Check If Two Numbers are Amicable Numbers\n",
        "x=int(input('Enter number 1: '))\n",
        "y=int(input('Enter number 2: '))\n",
        "sum1=0\n",
        "sum2=0\n",
        "for i in range(1,x):\n",
        "    if x%i==0:\n",
        "        sum1+=i\n",
        "for j in range(1,y):\n",
        "    if y%j==0:\n",
        "        sum2+=j\n",
        "if(sum1==y and sum2==x):\n",
        "    print('Amicable!')\n",
        "else:\n",
        "    print('Not Amicable!')"
      ],
      "execution_count": 45,
      "outputs": [
        {
          "output_type": "stream",
          "text": [
            "Enter number 1: 220\n",
            "Enter number 2: 284\n",
            "Amicable!\n"
          ],
          "name": "stdout"
        }
      ]
    },
    {
      "cell_type": "code",
      "metadata": {
        "id": "zaQxkFiOkGsX",
        "colab_type": "code",
        "colab": {
          "base_uri": "https://localhost:8080/",
          "height": 85
        },
        "outputId": "037a73c3-b9fa-48f1-be1a-20ed4fe0517f"
      },
      "source": [
        "# Program to Find the Area of a Triangle Given All Three Sides\n",
        "import math\n",
        "a=int(input(\"Enter first side: \"))\n",
        "b=int(input(\"Enter second side: \"))\n",
        "c=int(input(\"Enter third side: \"))\n",
        "s=(a+b+c)/2\n",
        "area=math.sqrt(s*(s-a)*(s-b)*(s-c))\n",
        "print(\"Area of the triangle is: \",round(area,2))"
      ],
      "execution_count": 46,
      "outputs": [
        {
          "output_type": "stream",
          "text": [
            "Enter first side: 15\n",
            "Enter second side: 9\n",
            "Enter third side: 7\n",
            "Area of the triangle is:  20.69\n"
          ],
          "name": "stdout"
        }
      ]
    },
    {
      "cell_type": "code",
      "metadata": {
        "id": "LVCqf-VelXo0",
        "colab_type": "code",
        "colab": {
          "base_uri": "https://localhost:8080/",
          "height": 85
        },
        "outputId": "573c77d5-6346-4829-fe79-eca189c0ac61"
      },
      "source": [
        "# Program to Find the Gravitational Force Acting Between Two Objects\n",
        "m1=float(input(\"Enter the first mass: \"))\n",
        "m2=float(input(\"Enter the second mass: \"))\n",
        "r=float(input(\"Enter the distance between the centres of the masses: \"))\n",
        "G=6.673*(10**-11)\n",
        "f=(G*m1*m2)/(r**2)\n",
        "print(\"Hence, the gravitational force is: \",round(f,2),\"N\")"
      ],
      "execution_count": 48,
      "outputs": [
        {
          "output_type": "stream",
          "text": [
            "Enter the first mass: 1000000\n",
            "Enter the second mass: 500000\n",
            "Enter the distance between the centres of the masses: 20\n",
            "Hence, the gravitational force is:  0.08 N\n"
          ],
          "name": "stdout"
        }
      ]
    },
    {
      "cell_type": "code",
      "metadata": {
        "id": "eBu4fXq1mSkO",
        "colab_type": "code",
        "colab": {
          "base_uri": "https://localhost:8080/",
          "height": 153
        },
        "outputId": "5031bba2-b482-4dae-874d-ef7cdd0881fd"
      },
      "source": [
        "# Program to print all the prime numbers within a given range\n",
        "r=int(input(\"Enter upper limit: \"))\n",
        "for a in range(2,r+1):\n",
        "    k=0\n",
        "    for i in range(2,a//2+1):\n",
        "        if(a%i==0):\n",
        "            k=k+1\n",
        "    if(k<=0):\n",
        "        print(a)"
      ],
      "execution_count": 1,
      "outputs": [
        {
          "output_type": "stream",
          "text": [
            "Enter upper limit: 17\n",
            "2\n",
            "3\n",
            "5\n",
            "7\n",
            "11\n",
            "13\n",
            "17\n"
          ],
          "name": "stdout"
        }
      ]
    },
    {
      "cell_type": "code",
      "metadata": {
        "id": "LIR5CDb17RUi",
        "colab_type": "code",
        "colab": {
          "base_uri": "https://localhost:8080/",
          "height": 68
        },
        "outputId": "9bcb012c-e103-4992-cfda-53855297049a"
      },
      "source": [
        "# Program to Find the Sum of Sine Series\n",
        "import math\n",
        "def sin(x,n):\n",
        "    sine = 0\n",
        "    for i in range(n):\n",
        "        sign = (-1)**i\n",
        "        pi=22/7\n",
        "        y=x*(pi/180)\n",
        "        sine = sine + ((y**(2.0*i+1))/math.factorial(2*i+1))*sign\n",
        "    return sine\n",
        "x=int(input(\"Enter the value of x in degrees:\"))\n",
        "n=int(input(\"Enter the number of terms:\"))\n",
        "print(round(sin(x,n),2))"
      ],
      "execution_count": 2,
      "outputs": [
        {
          "output_type": "stream",
          "text": [
            "Enter the value of x in degrees:30\n",
            "Enter the number of terms:10\n",
            "0.5\n"
          ],
          "name": "stdout"
        }
      ]
    },
    {
      "cell_type": "code",
      "metadata": {
        "id": "c9VqDt8NFEaA",
        "colab_type": "code",
        "colab": {
          "base_uri": "https://localhost:8080/",
          "height": 68
        },
        "outputId": "70d3b05b-b267-4e39-e3b6-aabe62467c51"
      },
      "source": [
        "# Program to Find the Sum of Cosine Series\n",
        "import math\n",
        "def cosine(x,n):\n",
        "    cosx = 1\n",
        "    sign = -1\n",
        "    for i in range(2, n, 2):\n",
        "        pi=22/7\n",
        "        y=x*(pi/180)\n",
        "        cosx = cosx + (sign*(y**i))/math.factorial(i)\n",
        "        sign = -sign\n",
        "    return cosx\n",
        "x=int(input(\"Enter the value of x in degrees:\"))\n",
        "n=int(input(\"Enter the number of terms:\"))\n",
        "print(round(cosine(x,n),2))"
      ],
      "execution_count": 3,
      "outputs": [
        {
          "output_type": "stream",
          "text": [
            "Enter the value of x in degrees:0\n",
            "Enter the number of terms:10\n",
            "1.0\n"
          ],
          "name": "stdout"
        }
      ]
    },
    {
      "cell_type": "code",
      "metadata": {
        "id": "jD20Kx5OFPnw",
        "colab_type": "code",
        "colab": {
          "base_uri": "https://localhost:8080/",
          "height": 51
        },
        "outputId": "10c2ec98-ea80-42aa-e659-7452c8c544d8"
      },
      "source": [
        "# Program to Find the Sum of the Series: 1 + 1/2 + 1/3 + ….. + 1/N\n",
        "n=int(input(\"Enter the number of terms: \"))\n",
        "sum1=0\n",
        "for i in range(1,n+1):\n",
        "    sum1=sum1+(1/i)\n",
        "print(\"The sum of series is\",round(sum1,2))"
      ],
      "execution_count": 4,
      "outputs": [
        {
          "output_type": "stream",
          "text": [
            "Enter the number of terms: 7\n",
            "The sum of series is 2.59\n"
          ],
          "name": "stdout"
        }
      ]
    },
    {
      "cell_type": "code",
      "metadata": {
        "id": "f5DQLuSrFdg-",
        "colab_type": "code",
        "colab": {
          "base_uri": "https://localhost:8080/",
          "height": 68
        },
        "outputId": "2c4f0c40-4c9a-4ba2-c90b-8d7fd2484165"
      },
      "source": [
        "# Program to Find the Sum of the Series: 1 + x^2/2 + x^3/3 + … x^n/n\n",
        "n=int(input(\"Enter the number of terms:\"))\n",
        "x=int(input(\"Enter the value of x:\"))\n",
        "sum1=1\n",
        "for i in range(2,n+1):\n",
        "    sum1=sum1+((x**i)/i)\n",
        "print(\"The sum of series is\",round(sum1,2))"
      ],
      "execution_count": 5,
      "outputs": [
        {
          "output_type": "stream",
          "text": [
            "Enter the number of terms:3\n",
            "Enter the value of x:1\n",
            "The sum of series is 1.83\n"
          ],
          "name": "stdout"
        }
      ]
    },
    {
      "cell_type": "code",
      "metadata": {
        "id": "8gPhnGFpFnLC",
        "colab_type": "code",
        "colab": {
          "base_uri": "https://localhost:8080/",
          "height": 51
        },
        "outputId": "f0466f66-ed00-48dd-89f2-f0c27d8389a1"
      },
      "source": [
        "# Program to Determine all Pythagorean Triplets in the Range\n",
        "limit=int(input(\"Enter upper limit:\"))\n",
        "c=0\n",
        "m=2\n",
        "while(c<limit):\n",
        "    for n in range(1,m+1):\n",
        "        a=m*m-n*n\n",
        "        b=2*m*n\n",
        "        c=m*m+n*n\n",
        "        if(c>limit):\n",
        "            break\n",
        "        if(a==0 or b==0 or c==0):\n",
        "            break\n",
        "        print(a,b,c)\n",
        "    m=m+10"
      ],
      "execution_count": 6,
      "outputs": [
        {
          "output_type": "stream",
          "text": [
            "Enter upper limit:20\n",
            "3 4 5\n"
          ],
          "name": "stdout"
        }
      ]
    },
    {
      "cell_type": "code",
      "metadata": {
        "id": "Os6NPEU6Rh2x",
        "colab_type": "code",
        "colab": {
          "base_uri": "https://localhost:8080/",
          "height": 51
        },
        "outputId": "7f614f7b-8b74-4f76-ccc9-6bb56223d613"
      },
      "source": [
        "# Program to test Collatz Conjecture for a Given Number\n",
        "def collatz(n):\n",
        "    while n > 1:\n",
        "        print(n, end=' ')\n",
        "        if (n % 2):\n",
        "            # n is odd\n",
        "            n = 3*n + 1\n",
        "        else:\n",
        "            # n is even\n",
        "            n = n//2\n",
        "    print(1, end='')\n",
        " \n",
        " \n",
        "n = int(input('Enter n: '))\n",
        "print('Sequence: ', end='')\n",
        "collatz(n)"
      ],
      "execution_count": 7,
      "outputs": [
        {
          "output_type": "stream",
          "text": [
            "Enter n: 11\n",
            "Sequence: 11 34 17 52 26 13 40 20 10 5 16 8 4 2 1"
          ],
          "name": "stdout"
        }
      ]
    },
    {
      "cell_type": "code",
      "metadata": {
        "id": "tB6Y7LvrSakr",
        "colab_type": "code",
        "colab": {}
      },
      "source": [
        ""
      ],
      "execution_count": 0,
      "outputs": []
    }
  ]
}